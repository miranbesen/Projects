{
 "cells": [
  {
   "cell_type": "code",
   "execution_count": 1,
   "metadata": {},
   "outputs": [],
   "source": [
    "import random\n",
    "#from itertools import chain, combinations #powerset için importladık\n",
    "\n",
    "class Item(object): #bas ve son sayfa için olusturulan Item classımız\n",
    "    def __init__(self,basS,sonS):\n",
    "        \n",
    "        self.basSayfa=basS\n",
    "        self.sonSayfa=sonS\n",
    "    def getbasSayfa(self):\n",
    "        return self.basSayfa\n",
    "    def getsonSayfa(self):\n",
    "        return self.sonSayfa\n",
    "    def __str__(self): #print işleminin böyle yapıldığını belirtiyor.\n",
    "        result= '<'+str(self.basSayfa)+', '+str(self.sonSayfa)+ '>'\n",
    "        return result\n"
   ]
  },
  {
   "cell_type": "code",
   "execution_count": 2,
   "metadata": {},
   "outputs": [],
   "source": [
    "def randList(kisiS,sayfaS): #kisi sayisi ve sayfa sayısına göre random listemizi olusturyoruz.\n",
    "    Items=[]\n",
    "    attachedList=[] #bu listenin amaci en cok okunan sayfayı bulmak için bütün elemanları bunda topluyoruz.\n",
    "\n",
    "    for i in range(kisiS):  \n",
    "       baslangicS=random.randint(1,sayfaS) \n",
    "       sonS=random.randint(baslangicS,sayfaS)  #baslangıc sayfasına göre random atıyoruz ve items'ımıza ekliyoruz\n",
    "       Items.append(Item(baslangicS,sonS)) \n",
    "       while(sonS>=baslangicS): #bu döngünün amacı kisi sayısına göre baslangıc ve son sayfamıza göre bütün ara elemanlar dahil attachedlistemizde toplamak.\n",
    "           attachedList.append(baslangicS)\n",
    "           baslangicS+=1\n",
    "\n",
    "    return Items,attachedList"
   ]
  },
  {
   "cell_type": "code",
   "execution_count": 3,
   "metadata": {},
   "outputs": [],
   "source": [
    "def get_hist(my_list): #histogramimizi cikariyoruz \n",
    "    my_hist={}\n",
    "    for w in my_list:\n",
    "        if w in my_hist.keys():\n",
    "            my_hist[w]=my_hist[w]+1\n",
    "        else:\n",
    "            my_hist[w]=1\n",
    "    return my_hist\n"
   ]
  },
  {
   "cell_type": "code",
   "execution_count": 4,
   "metadata": {},
   "outputs": [],
   "source": [
    "def mostReadPage(my_hist1): #iki ayrı listeye bölüyoruz, en cok okunan sayfanın hangisi olduğunu ve kaç kere okunduğunu buluyoruz.\n",
    "     vlist=list(my_hist1.values()) #value listesi\n",
    "     klist=list(my_hist1.keys()) #key listesi\n",
    "     return klist[vlist.index(max(vlist))],max(vlist) #burda da valueler arasında maksimumun indexini keylistemize karşılık gelen değere göre yani en çok okunan sayfayı buluyoruz.\n",
    "#max(vlist)' te ise kaç kere okunduğunu döndürüyor\n"
   ]
  },
  {
   "cell_type": "code",
   "execution_count": 5,
   "metadata": {},
   "outputs": [],
   "source": [
    "#def genPowerset(iterable): #olabilecek bütün koşulları kombine etmeye yarıyor. Kendim yazdığım için yorum satırına aldım\n",
    "#    \"powerset([1,2,3])--> () (1,) (2,) (3,) (1,2) (1,3) (2,3) (1,2,3)\" #Bütün olası değerleri kombine eder.\n",
    "#    s=list(iterable)\n",
    "#    return chain.from_iterable(combinations(s,r)for r in range(len(s)+1))\n"
   ]
  },
  {
   "cell_type": "code",
   "execution_count": 6,
   "metadata": {},
   "outputs": [],
   "source": [
    "#pset : [(10,20),(15,25),(30,50),(40,60),(35,40)]  best list = {(10,20),(35,40),(40,60)} #öylesine örnek yazdım\n",
    "def chooseBest(pset, getbasSayfa, getsonSayfa):   #Brute force yöntemi için yazılan fonksiyonumuz.\n",
    "    bestSayfa=0 \n",
    "    bestSet=None #en iyi seti anlamak için pset içindeki\n",
    "    for items in pset:  #ilk başta itemslerimiz pset içinde olan listelerde geziyor.\n",
    "       #for item in items:\n",
    "            #print(item)\n",
    "        itemsSayfa=0\n",
    "        durum = controlKesisen(items,Item.getbasSayfa,Item.getsonSayfa) #eğer pset içindeki listelerin içindeki itemler arasında keşisen var ise False döner. Ve bu şekilde koşula girmemeyi sağlıyoruz.\n",
    "        if(durum): #kesisen eleman var ise hic girmez\n",
    "            for item in items:\n",
    "                itemsSayfa+=getsonSayfa(item)-getbasSayfa(item) #Ortak olmayan elemanlardaki maksimum sayfa sayısını bulmak için böyle yapıyoruz.\n",
    "            if itemsSayfa >= bestSayfa: #psetteki maksimum okunan sayfayı bulmak maksadımız\n",
    "                bestSayfa=itemsSayfa\n",
    "                bestSet=items\n",
    "    return (bestSet,bestSayfa)\n"
   ]
  },
  {
   "cell_type": "code",
   "execution_count": 7,
   "metadata": {},
   "outputs": [],
   "source": [
    "def chooseBestMemo(pset, getbasSayfa, getsonSayfa,memo={}):  \n",
    "    bestSayfa=0 \n",
    "    bestSet=None #en iyi seti anlamak için pset içindeki\n",
    "    for items in pset: \n",
    "        #for item in items:\n",
    "            #print(\"itemlerimiz:\",item)\n",
    "        itemsSayfa=0\n",
    "        durum = controlKesisen(items,Item.getbasSayfa,Item.getsonSayfa)  #eğer pset içindeki listelerin içindeki itemler arasında keşisen var ise False döner. Ve bu şekilde koşula girmemeyi sağlıyoruz.\n",
    "        if(durum): #kesisen eleman var ise hic girmez\n",
    "            for item in items:\n",
    "                if (item in memo.keys()): #en altta uzun uzun anlattım. Amacımız eğer bellek içinde itemSayfa var ise direk bellekten çekerek fonksiyonumuzun daha hızlı çalışmasını sağlamak diyebiliriz.\n",
    "                    memosayfa=memo[item]\n",
    "                    itemsSayfa+=memosayfa\n",
    "\n",
    "                else: \n",
    "                     memosayfa=getsonSayfa(item)-getbasSayfa(item) #Burda bunu ayrı yazmamızın sebebi benim amacım pset içindeki listelerin içindeki her iteme karşılık gelen değeri bulmak. Onun için bunu ayrı yazmak durumunda oluyorum.\n",
    "                     itemsSayfa+=getsonSayfa(item)-getbasSayfa(item) #Ortak olmayan elemanlardaki maksimum sayfa sayısını bulmak için böyle yapıyoruz. \n",
    "                     memo[item]=memosayfa #burada eğer itemımız memo da yok ise ekliyoruz ama bunu memosayfaya göre yapmamız gerek eğer itemsayfaya göre yaparsak psetin içindeki listeler için yapmış oluruz.Ama bizim amacımız psetin içindeki listelerin içindeki itemlere göre yapmak.\n",
    "                     memosayfa=0  \n",
    "        if itemsSayfa >= bestSayfa: #psetteki maksimum okunan sayfayı bulmak maksadımız \n",
    "                 bestSayfa=itemsSayfa\n",
    "                 bestSet=items\n",
    "                 \n",
    "    \n",
    "    return (bestSet,bestSayfa)"
   ]
  },
  {
   "cell_type": "code",
   "execution_count": 8,
   "metadata": {},
   "outputs": [],
   "source": [
    "def controlKesisen(items,getbasSayfa, getsonSayfa):\n",
    "    sonuc=True #eğer kesisen eleman yok ise sonucu direk True olarak dönderiyoruz. \n",
    "#items: [(10,20),(15,25),(30,50),(40,60),(35,40)] bestset=[(10,20),(30,50),(40,60)   Örnek olarak yazmıstım\n",
    "\n",
    "    n=len(items)      \n",
    "    for i in range(0,n-1,1): #şimdi yukardaki örnekten hareket ederek listemizde bulunan itemlerin herbirini birini kendinden sonraki gelenler ile kıyaslayarak kesişip kesişmediğini buluyoruz.\n",
    "        for j in range(i,n-1,1): \n",
    "            #bütün listede kesisen elemanlari bulmamızı sağlar,eğer bu durumlardan herhangi biri sağlanırsa kesişen item vardır. Ve sonucumuz False döner.\n",
    "            if((getbasSayfa(items[i])>= getbasSayfa(items[j+1]) and getbasSayfa(items[i]) <= getsonSayfa(items[j+1]) ) or(getbasSayfa(items[j+1])>=getbasSayfa(items[i]) and getbasSayfa(items[j+1])<= getsonSayfa(items[i])) or(getbasSayfa(items[i])<=getbasSayfa(items[j+1]) and getsonSayfa(items[j+1]) <= getsonSayfa(items[i])) or(getbasSayfa(items[j+1])<=getbasSayfa(items[i]) and getsonSayfa(items[i]) <= getsonSayfa(items[j+1]))):\n",
    "                sonuc=False #yani kesisiyor\n",
    "                break   \n",
    "    \n",
    "    return sonuc"
   ]
  },
  {
   "cell_type": "code",
   "execution_count": 9,
   "metadata": {},
   "outputs": [],
   "source": [
    "def myPset(items,getbasSayfa, getsonSayfa): #kendi oluşturduğum pset, böylece karmaşıklık minimuma indirmiş oldum. Bu psetin icinde sadece birbiri ile kesişmeyen ayrı ayrı listeleri tutuyorum.\n",
    "    iclist=[]\n",
    "    n=len(items)\n",
    "    pset= [[]] #kendi olusturacağımız psetimiz\n",
    "    for i in range(0,n-1,1):\n",
    "        iclist.append(items[i])\n",
    "        for j in range(i,n-1,1): \n",
    "            #eğer bu durumlardan biri sağlanıyor ise kesişiyor demektir listedeki elemanımız onun için oluşturduğumuz listeye ekleme yapmıyoruz o itemsı.\n",
    "            if((getbasSayfa(items[i])>= getbasSayfa(items[j+1]) and getbasSayfa(items[i]) <= getsonSayfa(items[j+1]) ) or(getbasSayfa(items[j+1])>=getbasSayfa(items[i]) and getbasSayfa(items[j+1])<= getsonSayfa(items[i])) or(getbasSayfa(items[i])<=getbasSayfa(items[j+1]) and getsonSayfa(items[j+1]) <= getsonSayfa(items[i])) or(getbasSayfa(items[j+1])<=getbasSayfa(items[i]) and getsonSayfa(items[i]) <= getsonSayfa(items[j+1]))):                \n",
    "                break   \n",
    "            else: #eğer kesişmiyor ise ekleme yapıyoruz listemize.\n",
    "                iclist.append(items[j+1])\n",
    "\n",
    "        pset.append(iclist); #iç içe bir çok birbiri ile kesişmeyen liste elde ediyoruz. Bunun sayesinde kesişen itemleri içinde bulundurmadığı için karmaşıklık minimalize etmiş olduk.\n",
    "        iclist=[] #bu sekilde ekledikten sonra listemizi tekrardan sıfırlıyoruz. en baştan yeni bir liste psetin içine ekliyoruz.\n",
    "    return pset;"
   ]
  },
  {
   "cell_type": "code",
   "execution_count": 10,
   "metadata": {},
   "outputs": [],
   "source": [
    "def BruteForceTest(items,getbasSayfa,getsonSayfa): #print işlemleri için yazdık Brute Forcenin\n",
    "    pset=myPset(items,Item.getbasSayfa,Item.getsonSayfa) #karmaşıklık 0(n) iken genPoweset yüzünden 0(n*2^n) oluyor. || pset: Olası bütün durumlar.\n",
    "    taken,val= chooseBest(pset,Item.getbasSayfa,Item.getsonSayfa)\n",
    "    print('Maks okunan sayfa:',val)\n",
    "    for item in taken:\n",
    "        print(item)"
   ]
  },
  {
   "cell_type": "code",
   "execution_count": 11,
   "metadata": {},
   "outputs": [],
   "source": [
    "def DynamicProgrammingTest(items,getbasSayfa, getsonSayfa): #Karmaşıklığı az olan Memodan yardım alarak yazdıgım fonksiyonun print işlemleri.\n",
    "    pset=myPset(items,Item.getbasSayfa,Item.getsonSayfa) #karmaşıklık 0(n) iken genPoweset yüzünden 0(n*2^n) oluyor. || pset: Olası bütün durumlar.\n",
    "    taken,val= chooseBestMemo(pset,Item.getbasSayfa,Item.getsonSayfa)\n",
    "    print('Maks okunan sayfa:',val)\n",
    "    for item in taken:\n",
    "        print(item)"
   ]
  },
  {
   "cell_type": "code",
   "execution_count": 12,
   "metadata": {},
   "outputs": [
    {
     "name": "stdout",
     "output_type": "stream",
     "text": [
      "kisi sayisi giriniz:10\n",
      "sayfa sayisi giriniz:200\n"
     ]
    }
   ],
   "source": [
    "try: #bu sayede int deger dısında birşey girersek default değer olarak kisiS=5,sayfaS=250 alıyoruz.\n",
    "    kisiS=int(input(\"kisi sayisi giriniz:\"))\n",
    "    sayfaS=int(input(\"sayfa sayisi giriniz:\"))\n",
    "except ValueError:\n",
    "    kisiS=5\n",
    "    sayfaS=250"
   ]
  },
  {
   "cell_type": "code",
   "execution_count": 13,
   "metadata": {},
   "outputs": [
    {
     "name": "stdout",
     "output_type": "stream",
     "text": [
      "Üretilen İtemlerimiz:\n",
      "<36, 68>\n",
      "<107, 160>\n",
      "<150, 164>\n",
      "<11, 32>\n",
      "<90, 114>\n",
      "<91, 116>\n",
      "<85, 111>\n",
      "<44, 156>\n",
      "<76, 200>\n",
      "<42, 80>\n",
      "----------------------------------------------------------------------------------------\n",
      "\n",
      "< En cok okunan sayfa: 107   Okundugu sayfa sayisi: 6 >\n",
      "\n",
      "Ortak okuduğu sayfa olmayanlar:\n",
      "BruteForce ile yaptığım:\n",
      "Maks okunan sayfa: 124\n",
      "<76, 200>\n",
      "\n",
      "Dynamic Programming ile yaptığım\n",
      "Maks okunan sayfa: 124\n",
      "<76, 200>\n"
     ]
    }
   ],
   "source": [
    "items,attachedList=randList(kisiS,sayfaS) \n",
    "\n",
    "print(\"Üretilen İtemlerimiz:\") #yani ilk ve son sayfa\n",
    "for item in items:\n",
    "    print(item)\n",
    "\n",
    "print(\"----------------------------------------------------------------------------------------\")\n",
    "print()\n",
    "#print(attachedList)\n",
    "\n",
    "my_hist1=get_hist(attachedList)\n",
    "mostreadpage,readNumberOfPage=mostReadPage(my_hist1)\n",
    "\n",
    "print(\"<\",\"En cok okunan sayfa:\",mostreadpage,\" \",\"Okundugu sayfa sayisi:\",readNumberOfPage,\">\")\n",
    "print()\n",
    "print(\"Ortak okuduğu sayfa olmayanlar:\")\n",
    "print(\"BruteForce ile yaptığım:\")\n",
    "BruteForceTest(items,Item.getbasSayfa,Item.getsonSayfa)\n",
    "print()\n",
    "print(\"Dynamic Programming ile yaptığım\")\n",
    "DynamicProgrammingTest(items,Item.getbasSayfa,Item.getsonSayfa)"
   ]
  },
  {
   "cell_type": "code",
   "execution_count": null,
   "metadata": {},
   "outputs": [],
   "source": [
    "\"\"\"\n",
    "A-)Bu listeyi random olarak üreten fonksiyonu yazınız. Kişi sayısı ( default değer 5,) ve kitabın sayfa sayısı \n",
    "( default değer 250 ) fonksiyona parametre olarak gönderilmelidir. (Cevap)\n",
    "    Bunu bulmak içinde kullanıcıdan önce bir kişi sayısı ve kitabın sayfa sayısını istedim. Sonra bunları randList fonksiyonumuza\n",
    "atadım. Bu fonksiyonda random bir şekilde kitabın son ve bas sayfasını bulduk. Ve sonra bunu items adlı listemize Item classımız\n",
    "yardımı ile ekledim. Kisi sayısına göre bunu durmadan tekrar ettirdim. \n",
    "\n",
    "B-) En çok okunan sayfayı bulunuz.(Cevap)\n",
    "    Bunu bulmak için yaptığım şey ilk önce bütün listemizdeki itemleri tektek ilk sayfa ve son sayfalarına göre açtım. \n",
    "Bunların sonra bir listede tutup histogram fonksiyonuna yolladım.Sonra bu histogramın aralarındaki en yüksek value değerine \n",
    "göre yani en çok okunan sayfayı bulmak için mostReadPage fonksiyonumuza histogramı atadım ve en çok okunan sayfa ve okunduğu \n",
    "sayfa sayısını bulduk.\n",
    "\n",
    "C.)    Bu listede öyle k tane kişiden oluşan öyle bir grup vardır ki bunların ortak okuduğu sayfa yoktur ve \n",
    "birleşimi okunan sayfa sayısı olarak maksimumdur. Bu k kişiden oluşan grubu bulunuz. ( Brute Force yöntemi kullanmayınız) (Cevap)\n",
    "    İlk önceklikle karmaşıklığı minimuma indirmek için myPset adlı fonksiyon yazdım. Bu fonksiyon iç içe listelere sahip pset \n",
    "ve iclist adlı değişkene sahip. Burdaki pseti oluştururken amacım itemslerimizde olan değişkenlerin kesişmeyenlerinin oluştuğu\n",
    "bir pset yapmak. Bunuda iclist yardımıyla ilk başta ilk elemanımızı ekleyip ondan sonra diğer elemanları kapsamıyor ise yani\n",
    "ortak eleman yok ise bunu listeye ekliyoruz. Bu şekilde dış döngüdeki durmadan i değişkeni değiştikce psetimiz içinde yeni \n",
    "bir liste oluşmuş oluyor. Bu şekilde sadece psetimiz içinde kesişmeyen elemanların olduğu listeler olmuş oluyor.\n",
    "Daha sonra bunu oluşturmuş olduğum fonksiyonum olan chooseBestMemo fonksiyonumuza yolluyorum. Bu fonksiyonda geriye best sayfa\n",
    "ve best set döndermesini istiyoruz. Burda amacımız memo yardımı ile itemlerimizin farkı olan itemsSayfa'yı bulurken eğer önceden\n",
    "bulduk isek tekrar bunu hesaplamak yerine bu değeri bellekten çekmemiz. Bu şekilde yapmamız ile programımızı hızlandırmanın yanı\n",
    "sıra karmaşıklık içinde minimalize daha çok yaklaşmış oluyoruz. Örneğin;\n",
    "liste=[(100,20),(200,100),(300,100),(400,100),(500,300)] elimizde böyle bir liste var. Memomuza ekliceğimiz olan değerler\n",
    "bu listedeki son eleman ile ilk elemanın farkıdır. Bu şekilde psetimiz içindeki listemizde tekrar böyle itemler ile karşılaşılır\n",
    "ise direk farklarını yani okuduğu sayfayı döndürerek hesaplamaya gerek bırakmamaktır. Memomuzda mesela bu şekil olmuş olur \n",
    "örneğimize göre;\n",
    "memo={((100,20):80),((200,100):100),((300,100):200),((400,100):300),((500,300):200)}\n",
    "Bundan önce birde controlKesisen adlı fonksiyonumuz yardımı ile  pset içinde olan listelerde kesişen eleman olup olmadığını \n",
    "anlıyoruz. Eğer kesişen eleman var ise False döner, yoksa True döner. Bunuda anlamak için bu fonksiyonumuzda Listemiz içinde\n",
    "olan itemlerin bas sayfa ve son sayfalarını itemler arasında kıyaslayarak itemlerin ortak elemanı olup olmadığını anlamaya yarıyor\n",
    "eğer ortak eleman bulur ise yani kesişme şartlarımız için listemizde bulunan itemlerimiz if'in içindeki herhangi bir durumu \n",
    "sağlar ise bunların kesiştiğini anlayıp  false döndürüryoruz ve diğer fonksiyonumuz içindeki psette  bulunan listede kesişen\n",
    "eleman olduğu için o liste için girmeyip koşulumuza bir sonraki liste için bunu tekrarlıyoruz. chooseBestMemo fonksiyonumuz \n",
    "içinde bulunan en son if koşulumuz ile en best olan sayfa sayesinde best set ve bestSayfamızı bulmuş oluyoruz.\n",
    "\n",
    "D.)Brute Force yöntemi nedir? Yukarıdaki C seçeneğini brute force yöntemi ile bulunuz. (Cevap)\n",
    "   Brute Force yöntemi kaba kuvvet diye de bildiğimiz sırt çanta problemlerinin çözüm yöntemi diyebiliriz. Bu sırt çanta problem\n",
    "lerinin tabi ki durumları değişebilir. Bu kodumuzdaki durum ise ortak olmayan şekilde okunan sayfa sayılarına göre maksimum\n",
    "okunan sayfayı bulmaktır. Optimal (olası en iyi durum) bulmak için uğraşırız. Brute forcee yönteminin izlediği adımda ise\n",
    "döngü yardımıyla olasılık durumlarını test etmekten geçer. Bu bütün olasılık durumlarına ise power set deriz.\n",
    "Hatta bunun izlediği algoritmaya şöyle diyebiliriz:\n",
    "1.Adım: Hepsini Üret\n",
    "2.Adım: Şartı sağlamayanları çıkart.\n",
    "3.Adım: Şartı sağlayanlardan maksimum olanları geri dönder. \n",
    "Kitabımızda bulunan chooseBest fonksiyonumuzda bu işe yaramaktadır. \n",
    "\n",
    "    Birde karmaşıklıktan bahsetmek istiyorum benim amacım yazdığım kodda karmaşıklığı minimuma indirmeye çalışmaktır. \n",
    "Bunuda minimuma indirmek için power set’i yani olası tüm durumları minimalize ederek yapmaya çalıştım. \n",
    "Önce power set’in karmaşıklığından bahsedecek olursam eğer O(2nxn)’dir bunu ben azaltmak için tüm durumlar \n",
    "yerine kesişmeyenleri tutan bir power set elde ederek karmaşıklığımı minimuma indirmeye çalıştım. Birde buna \n",
    "ekstradan kitapta da geçen memoization yönteminden yardım aldım. Bunuda bellekde eğer itemsımızın sayfa sayısı \n",
    "var ise burdan çekerek yaptım. Bu şekilde karmaşıklık için en iyi şekilde kod yazmış oldum. \n",
    "\n",
    "    \n",
    "\"\"\"\""
   ]
  }
 ],
 "metadata": {
  "kernelspec": {
   "display_name": "Python 3",
   "language": "python",
   "name": "python3"
  },
  "language_info": {
   "codemirror_mode": {
    "name": "ipython",
    "version": 3
   },
   "file_extension": ".py",
   "mimetype": "text/x-python",
   "name": "python",
   "nbconvert_exporter": "python",
   "pygments_lexer": "ipython3",
   "version": "3.7.6"
  }
 },
 "nbformat": 4,
 "nbformat_minor": 4
}
